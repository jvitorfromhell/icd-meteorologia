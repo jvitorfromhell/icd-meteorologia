{
 "cells": [
  {
   "cell_type": "code",
   "execution_count": 1,
   "metadata": {
    "collapsed": true
   },
   "outputs": [],
   "source": [
    "# Libs\n",
    "\n",
    "import pandas as pd\n",
    "import numpy as np\n",
    "import matplotlib as plt\n",
    "import seaborn as sns\n",
    "\n",
    "%matplotlib inline"
   ]
  },
  {
   "cell_type": "code",
   "execution_count": 2,
   "metadata": {
    "collapsed": true
   },
   "outputs": [],
   "source": [
    "dados = pd.read_csv('dados_original_bdmep.csv')"
   ]
  },
  {
   "cell_type": "code",
   "execution_count": 3,
   "metadata": {
    "collapsed": false
   },
   "outputs": [
    {
     "data": {
      "text/html": [
       "<div>\n",
       "<table border=\"1\" class=\"dataframe\">\n",
       "  <thead>\n",
       "    <tr style=\"text-align: right;\">\n",
       "      <th></th>\n",
       "      <th>Estacao</th>\n",
       "      <th>Data</th>\n",
       "      <th>Hora</th>\n",
       "      <th>Precipitacao</th>\n",
       "      <th>TempMaxima</th>\n",
       "      <th>TempMinima</th>\n",
       "      <th>Insolacao</th>\n",
       "      <th>Evaporacao Piche</th>\n",
       "      <th>Temp Comp Media</th>\n",
       "      <th>Umidade Relativa Media</th>\n",
       "      <th>Velocidade do Vento Media</th>\n",
       "    </tr>\n",
       "  </thead>\n",
       "  <tbody>\n",
       "    <tr>\n",
       "      <th>0</th>\n",
       "      <td>83985</td>\n",
       "      <td>01/01/1962</td>\n",
       "      <td>0</td>\n",
       "      <td>0.0</td>\n",
       "      <td>25.4</td>\n",
       "      <td>0.0</td>\n",
       "      <td>0.0</td>\n",
       "      <td>1.6</td>\n",
       "      <td>21.70</td>\n",
       "      <td>86.25</td>\n",
       "      <td>4.000000</td>\n",
       "    </tr>\n",
       "    <tr>\n",
       "      <th>1</th>\n",
       "      <td>83985</td>\n",
       "      <td>01/01/1962</td>\n",
       "      <td>1200</td>\n",
       "      <td>0.0</td>\n",
       "      <td>0.0</td>\n",
       "      <td>18.4</td>\n",
       "      <td>0.0</td>\n",
       "      <td>0.0</td>\n",
       "      <td>0.00</td>\n",
       "      <td>0.00</td>\n",
       "      <td>0.000000</td>\n",
       "    </tr>\n",
       "    <tr>\n",
       "      <th>2</th>\n",
       "      <td>83985</td>\n",
       "      <td>02/01/1962</td>\n",
       "      <td>0</td>\n",
       "      <td>0.0</td>\n",
       "      <td>29.2</td>\n",
       "      <td>0.0</td>\n",
       "      <td>0.0</td>\n",
       "      <td>1.0</td>\n",
       "      <td>23.16</td>\n",
       "      <td>76.00</td>\n",
       "      <td>0.666667</td>\n",
       "    </tr>\n",
       "    <tr>\n",
       "      <th>3</th>\n",
       "      <td>83985</td>\n",
       "      <td>02/01/1962</td>\n",
       "      <td>1200</td>\n",
       "      <td>15.8</td>\n",
       "      <td>0.0</td>\n",
       "      <td>20.0</td>\n",
       "      <td>0.0</td>\n",
       "      <td>0.0</td>\n",
       "      <td>0.00</td>\n",
       "      <td>0.00</td>\n",
       "      <td>0.000000</td>\n",
       "    </tr>\n",
       "    <tr>\n",
       "      <th>4</th>\n",
       "      <td>83985</td>\n",
       "      <td>03/01/1962</td>\n",
       "      <td>0</td>\n",
       "      <td>0.0</td>\n",
       "      <td>24.6</td>\n",
       "      <td>0.0</td>\n",
       "      <td>0.0</td>\n",
       "      <td>0.8</td>\n",
       "      <td>18.66</td>\n",
       "      <td>67.50</td>\n",
       "      <td>4.000000</td>\n",
       "    </tr>\n",
       "  </tbody>\n",
       "</table>\n",
       "</div>"
      ],
      "text/plain": [
       "   Estacao        Data  Hora  Precipitacao  TempMaxima  TempMinima  Insolacao  \\\n",
       "0    83985  01/01/1962     0           0.0        25.4         0.0        0.0   \n",
       "1    83985  01/01/1962  1200           0.0         0.0        18.4        0.0   \n",
       "2    83985  02/01/1962     0           0.0        29.2         0.0        0.0   \n",
       "3    83985  02/01/1962  1200          15.8         0.0        20.0        0.0   \n",
       "4    83985  03/01/1962     0           0.0        24.6         0.0        0.0   \n",
       "\n",
       "   Evaporacao Piche  Temp Comp Media  Umidade Relativa Media  \\\n",
       "0               1.6            21.70                   86.25   \n",
       "1               0.0             0.00                    0.00   \n",
       "2               1.0            23.16                   76.00   \n",
       "3               0.0             0.00                    0.00   \n",
       "4               0.8            18.66                   67.50   \n",
       "\n",
       "   Velocidade do Vento Media  \n",
       "0                   4.000000  \n",
       "1                   0.000000  \n",
       "2                   0.666667  \n",
       "3                   0.000000  \n",
       "4                   4.000000  "
      ]
     },
     "execution_count": 3,
     "metadata": {},
     "output_type": "execute_result"
    }
   ],
   "source": [
    "dados.head()"
   ]
  },
  {
   "cell_type": "code",
   "execution_count": 4,
   "metadata": {
    "collapsed": false
   },
   "outputs": [
    {
     "name": "stdout",
     "output_type": "stream",
     "text": [
      "<class 'pandas.core.frame.DataFrame'>\n",
      "RangeIndex: 23802 entries, 0 to 23801\n",
      "Data columns (total 11 columns):\n",
      "Estacao                      23802 non-null int64\n",
      "Data                         23802 non-null object\n",
      "Hora                         23802 non-null int64\n",
      "Precipitacao                 23802 non-null float64\n",
      "TempMaxima                   23802 non-null float64\n",
      "TempMinima                   23802 non-null float64\n",
      "Insolacao                    23802 non-null float64\n",
      "Evaporacao Piche             23802 non-null float64\n",
      "Temp Comp Media              23802 non-null float64\n",
      "Umidade Relativa Media       23802 non-null float64\n",
      "Velocidade do Vento Media    23802 non-null float64\n",
      "dtypes: float64(8), int64(2), object(1)\n",
      "memory usage: 2.0+ MB\n"
     ]
    }
   ],
   "source": [
    "dados.info()"
   ]
  },
  {
   "cell_type": "code",
   "execution_count": 5,
   "metadata": {
    "collapsed": false
   },
   "outputs": [
    {
     "data": {
      "text/html": [
       "<div>\n",
       "<table border=\"1\" class=\"dataframe\">\n",
       "  <thead>\n",
       "    <tr style=\"text-align: right;\">\n",
       "      <th></th>\n",
       "      <th>Estacao</th>\n",
       "      <th>Hora</th>\n",
       "      <th>Precipitacao</th>\n",
       "      <th>TempMaxima</th>\n",
       "      <th>TempMinima</th>\n",
       "      <th>Insolacao</th>\n",
       "      <th>Evaporacao Piche</th>\n",
       "      <th>Temp Comp Media</th>\n",
       "      <th>Umidade Relativa Media</th>\n",
       "      <th>Velocidade do Vento Media</th>\n",
       "      <th>Dia</th>\n",
       "      <th>Mes</th>\n",
       "      <th>Ano</th>\n",
       "    </tr>\n",
       "  </thead>\n",
       "  <tbody>\n",
       "    <tr>\n",
       "      <th>0</th>\n",
       "      <td>83985</td>\n",
       "      <td>0</td>\n",
       "      <td>0.0</td>\n",
       "      <td>25.4</td>\n",
       "      <td>0.0</td>\n",
       "      <td>0.0</td>\n",
       "      <td>1.6</td>\n",
       "      <td>21.70</td>\n",
       "      <td>86.25</td>\n",
       "      <td>4.000000</td>\n",
       "      <td>01</td>\n",
       "      <td>01</td>\n",
       "      <td>1962</td>\n",
       "    </tr>\n",
       "    <tr>\n",
       "      <th>1</th>\n",
       "      <td>83985</td>\n",
       "      <td>1200</td>\n",
       "      <td>0.0</td>\n",
       "      <td>0.0</td>\n",
       "      <td>18.4</td>\n",
       "      <td>0.0</td>\n",
       "      <td>0.0</td>\n",
       "      <td>0.00</td>\n",
       "      <td>0.00</td>\n",
       "      <td>0.000000</td>\n",
       "      <td>01</td>\n",
       "      <td>01</td>\n",
       "      <td>1962</td>\n",
       "    </tr>\n",
       "    <tr>\n",
       "      <th>2</th>\n",
       "      <td>83985</td>\n",
       "      <td>0</td>\n",
       "      <td>0.0</td>\n",
       "      <td>29.2</td>\n",
       "      <td>0.0</td>\n",
       "      <td>0.0</td>\n",
       "      <td>1.0</td>\n",
       "      <td>23.16</td>\n",
       "      <td>76.00</td>\n",
       "      <td>0.666667</td>\n",
       "      <td>02</td>\n",
       "      <td>01</td>\n",
       "      <td>1962</td>\n",
       "    </tr>\n",
       "    <tr>\n",
       "      <th>3</th>\n",
       "      <td>83985</td>\n",
       "      <td>1200</td>\n",
       "      <td>15.8</td>\n",
       "      <td>0.0</td>\n",
       "      <td>20.0</td>\n",
       "      <td>0.0</td>\n",
       "      <td>0.0</td>\n",
       "      <td>0.00</td>\n",
       "      <td>0.00</td>\n",
       "      <td>0.000000</td>\n",
       "      <td>02</td>\n",
       "      <td>01</td>\n",
       "      <td>1962</td>\n",
       "    </tr>\n",
       "    <tr>\n",
       "      <th>4</th>\n",
       "      <td>83985</td>\n",
       "      <td>0</td>\n",
       "      <td>0.0</td>\n",
       "      <td>24.6</td>\n",
       "      <td>0.0</td>\n",
       "      <td>0.0</td>\n",
       "      <td>0.8</td>\n",
       "      <td>18.66</td>\n",
       "      <td>67.50</td>\n",
       "      <td>4.000000</td>\n",
       "      <td>03</td>\n",
       "      <td>01</td>\n",
       "      <td>1962</td>\n",
       "    </tr>\n",
       "  </tbody>\n",
       "</table>\n",
       "</div>"
      ],
      "text/plain": [
       "   Estacao  Hora  Precipitacao  TempMaxima  TempMinima  Insolacao  \\\n",
       "0    83985     0           0.0        25.4         0.0        0.0   \n",
       "1    83985  1200           0.0         0.0        18.4        0.0   \n",
       "2    83985     0           0.0        29.2         0.0        0.0   \n",
       "3    83985  1200          15.8         0.0        20.0        0.0   \n",
       "4    83985     0           0.0        24.6         0.0        0.0   \n",
       "\n",
       "   Evaporacao Piche  Temp Comp Media  Umidade Relativa Media  \\\n",
       "0               1.6            21.70                   86.25   \n",
       "1               0.0             0.00                    0.00   \n",
       "2               1.0            23.16                   76.00   \n",
       "3               0.0             0.00                    0.00   \n",
       "4               0.8            18.66                   67.50   \n",
       "\n",
       "   Velocidade do Vento Media Dia Mes   Ano  \n",
       "0                   4.000000  01  01  1962  \n",
       "1                   0.000000  01  01  1962  \n",
       "2                   0.666667  02  01  1962  \n",
       "3                   0.000000  02  01  1962  \n",
       "4                   4.000000  03  01  1962  "
      ]
     },
     "execution_count": 5,
     "metadata": {},
     "output_type": "execute_result"
    }
   ],
   "source": [
    "# Transforma Data string em numerica\n",
    "\n",
    "dados['Dia'] = dados.Data.apply(lambda data : data.split('/')[0])\n",
    "dados['Mes'] = dados.Data.apply(lambda data : data.split('/')[1])\n",
    "dados['Ano'] = dados.Data.apply(lambda data : data.split('/')[2])\n",
    "\n",
    "# Remove data string\n",
    "dados = dados.drop(['Data'], axis=1)\n",
    "\n",
    "dados.head()"
   ]
  },
  {
   "cell_type": "code",
   "execution_count": 6,
   "metadata": {
    "collapsed": false
   },
   "outputs": [
    {
     "data": {
      "text/html": [
       "<div>\n",
       "<table border=\"1\" class=\"dataframe\">\n",
       "  <thead>\n",
       "    <tr style=\"text-align: right;\">\n",
       "      <th></th>\n",
       "      <th>Dia</th>\n",
       "      <th>Mes</th>\n",
       "      <th>Ano</th>\n",
       "      <th>Precipitacao</th>\n",
       "    </tr>\n",
       "  </thead>\n",
       "  <tbody>\n",
       "    <tr>\n",
       "      <th>0</th>\n",
       "      <td>01</td>\n",
       "      <td>01</td>\n",
       "      <td>1962</td>\n",
       "      <td>0.0</td>\n",
       "    </tr>\n",
       "    <tr>\n",
       "      <th>1</th>\n",
       "      <td>02</td>\n",
       "      <td>01</td>\n",
       "      <td>1962</td>\n",
       "      <td>15.8</td>\n",
       "    </tr>\n",
       "    <tr>\n",
       "      <th>2</th>\n",
       "      <td>03</td>\n",
       "      <td>01</td>\n",
       "      <td>1962</td>\n",
       "      <td>2.4</td>\n",
       "    </tr>\n",
       "    <tr>\n",
       "      <th>3</th>\n",
       "      <td>04</td>\n",
       "      <td>01</td>\n",
       "      <td>1962</td>\n",
       "      <td>0.0</td>\n",
       "    </tr>\n",
       "    <tr>\n",
       "      <th>4</th>\n",
       "      <td>05</td>\n",
       "      <td>01</td>\n",
       "      <td>1962</td>\n",
       "      <td>0.0</td>\n",
       "    </tr>\n",
       "  </tbody>\n",
       "</table>\n",
       "</div>"
      ],
      "text/plain": [
       "  Dia Mes   Ano  Precipitacao\n",
       "0  01  01  1962           0.0\n",
       "1  02  01  1962          15.8\n",
       "2  03  01  1962           2.4\n",
       "3  04  01  1962           0.0\n",
       "4  05  01  1962           0.0"
      ]
     },
     "execution_count": 6,
     "metadata": {},
     "output_type": "execute_result"
    }
   ],
   "source": [
    "# Seleciona somente os dados relativos a precipitacao\n",
    "# Uma vez que a medicao de precipitacao nao eh feita na leitura da meia noite (Hora = 0), pode-se ignorar esses dados\n",
    "\n",
    "precipitacao = dados[['Dia', 'Mes', 'Ano', 'Hora', 'Precipitacao']].copy()\n",
    "precipitacao = precipitacao[precipitacao.Hora == 1200].drop(['Hora'], axis=1).reset_index().drop(['index'], axis=1)\n",
    "\n",
    "precipitacao.head()"
   ]
  },
  {
   "cell_type": "code",
   "execution_count": 7,
   "metadata": {
    "collapsed": false
   },
   "outputs": [
    {
     "data": {
      "text/plain": [
       "array(['1962', '1963', '1964', '1965', '1966', '1967', '1968', '1969',\n",
       "       '1970', '1971', '1977', '1978', '1979', '1980', '1981', '1982',\n",
       "       '1983', '1984', '1988', '1991', '1994', '1996', '1997', '1998',\n",
       "       '2000', '2001', '2002', '2003', '2004', '2005', '2006', '2007',\n",
       "       '2008', '2009', '2010', '2011', '2012', '2013', '2014', '2015',\n",
       "       '2016'], dtype=object)"
      ]
     },
     "execution_count": 7,
     "metadata": {},
     "output_type": "execute_result"
    }
   ],
   "source": [
    "# Explorando os dados, verifiquei que existem anos que nao estao presentes nos dados\n",
    "# Nao existem dados relativos aos ano 1972-1976, 1985-1987, 1989-1990, 1992-1993, 1995 e 1999\n",
    "\n",
    "anos = precipitacao.Ano.unique()\n",
    "anos"
   ]
  },
  {
   "cell_type": "code",
   "execution_count": 8,
   "metadata": {
    "collapsed": false
   },
   "outputs": [
    {
     "name": "stdout",
     "output_type": "stream",
     "text": [
      "1962 ['01' '03' '04' '05' '06' '07' '08' '09' '10' '11' '12']\n",
      "1963 ['01' '02' '03' '04' '05' '06' '07' '08' '09' '11' '12']\n",
      "1964 ['01' '02' '03' '04' '05' '06' '08' '09' '10' '11' '12']\n",
      "1965 ['01' '02' '03' '04' '05' '06' '07' '08' '09' '11' '12']\n",
      "1966 ['01' '03' '04' '05' '06' '07' '08' '09' '10' '11' '12']\n",
      "1967 ['01']\n",
      "1968 ['02' '03' '04' '05' '06' '07' '09' '10' '11' '12']\n",
      "1969 ['02' '03' '04' '05' '06' '07' '08' '09' '10' '11' '12']\n",
      "1970 ['01' '02' '04' '06' '07' '08' '09' '10' '11' '12']\n",
      "1971 ['04']\n",
      "1977 ['09' '10' '11' '12']\n",
      "1978 ['01' '02' '03' '04' '05' '06' '07' '08' '09' '10' '11' '12']\n",
      "1979 ['01' '02' '03' '04' '05' '06' '07' '08' '09' '10' '11' '12']\n",
      "1980 ['01' '02' '03' '04' '05' '06' '07' '08' '09' '10' '11' '12']\n",
      "1981 ['01' '02' '03' '04' '05' '06' '07' '08' '09' '10' '11' '12']\n",
      "1982 ['01' '02' '03' '04' '05' '06' '07' '08' '09' '10' '11' '12']\n",
      "1983 ['01' '02' '03' '04' '05' '06' '07' '08' '09' '10' '11' '12']\n",
      "1984 ['01' '02' '03' '04' '05' '06' '07' '08' '09' '10' '11' '12']\n",
      "1988 ['05' '06' '07' '08']\n",
      "1991 ['01']\n",
      "1994 ['01' '02' '03' '04' '05' '06' '07' '08' '09' '10' '11' '12']\n",
      "1996 ['01' '02' '03' '04' '05' '06' '07' '08' '09' '10' '11' '12']\n",
      "1997 ['01' '02' '03' '04' '05' '06' '07' '08' '09' '10' '11' '12']\n",
      "1998 ['01' '02' '03' '04' '05' '06' '07' '08' '09' '10' '11' '12']\n",
      "2000 ['01' '02' '03' '04' '05' '06' '07' '08' '09' '10' '11' '12']\n",
      "2001 ['09' '10' '11' '12']\n",
      "2002 ['01' '02' '03' '04' '05' '06' '07' '08' '09' '10' '11' '12']\n",
      "2003 ['01' '02' '03' '04' '05' '06' '07' '08' '09' '10' '11' '12']\n",
      "2004 ['01' '02' '03' '04' '05' '06' '07' '08' '09' '10' '11' '12']\n",
      "2005 ['01' '02' '03' '04' '05' '06' '07' '08' '09' '10' '11']\n",
      "2006 ['01' '02' '03' '04' '05' '06' '07' '08' '09' '10' '11' '12']\n",
      "2007 ['01' '02' '03' '04' '05' '06' '07' '08' '09' '10' '11' '12']\n",
      "2008 ['01' '02' '03' '04' '05' '06' '07' '08' '09' '10' '11' '12']\n",
      "2009 ['01' '02' '03' '04' '05' '06' '07' '08' '09' '10' '11' '12']\n",
      "2010 ['01' '02' '03' '04' '05' '06' '07' '08' '09' '10' '11' '12']\n",
      "2011 ['01' '02' '03' '04' '05' '06' '07' '08' '09' '10' '11' '12']\n",
      "2012 ['01' '02' '03' '04' '05' '06' '07' '08' '09' '10' '11' '12']\n",
      "2013 ['01' '02' '03' '04' '05' '06' '07' '08' '09' '10' '11' '12']\n",
      "2014 ['01' '02' '03' '04' '05' '06' '07' '08']\n",
      "2015 ['01' '02' '03' '04' '05' '06' '07' '08' '09' '10' '11' '12']\n",
      "2016 ['01' '02' '03' '05' '06' '07' '08' '09' '10' '11' '12']\n"
     ]
    }
   ],
   "source": [
    "# Alem disso, ha meses faltando\n",
    "\n",
    "mesesPorAno = {}\n",
    "\n",
    "for ano in anos:\n",
    "    mesesPorAno[ano] = precipitacao[precipitacao.Ano == ano].Mes.unique()\n",
    "    \n",
    "for i in range(1962, 2017):\n",
    "    key = str(i)\n",
    "    if key in mesesPorAno:\n",
    "        print key, mesesPorAno[key]"
   ]
  },
  {
   "cell_type": "code",
   "execution_count": 69,
   "metadata": {
    "collapsed": false
   },
   "outputs": [
    {
     "data": {
      "text/plain": [
       "<matplotlib.axes._subplots.AxesSubplot at 0x7f7974774210>"
      ]
     },
     "execution_count": 69,
     "metadata": {},
     "output_type": "execute_result"
    },
    {
     "data": {
      "image/png": "[encoded data removed]",
      "text/plain": [
       "<matplotlib.figure.Figure at 0x7f7974686f90>"
      ]
     },
     "metadata": {},
     "output_type": "display_data"
    }
   ],
   "source": [
    "# Mito 1: se chove no dia de Sao Miguel (29 de Setembro) chove mais no mes de Outubro\n",
    "\n",
    "saoMiguel = precipitacao[precipitacao.Dia == '29']\n",
    "saoMiguel = saoMiguel[saoMiguel.Mes == '09'].drop(['Dia', 'Mes'], axis=1).set_index('Ano')\n",
    "\n",
    "outubros = precipitacao[precipitacao.Mes == '10'].drop(['Dia', 'Mes'], axis=1).groupby('Ano').sum()\n",
    "\n",
    "saoMiguel.join(outubros, lsuffix=' Sao Miguel', rsuffix=' Acumulada em Outubro').plot(kind='scatter', x = 'Precipitacao Sao Miguel', y = 'Precipitacao Acumulada em Outubro')\n",
    "\n",
    "# Parece que nao"
   ]
  },
  {
   "cell_type": "code",
   "execution_count": 91,
   "metadata": {
    "collapsed": false
   },
   "outputs": [
    {
     "data": {
      "text/plain": [
       "<matplotlib.axes._subplots.AxesSubplot at 0x7f796e8683d0>"
      ]
     },
     "execution_count": 91,
     "metadata": {},
     "output_type": "execute_result"
    },
    {
     "data": {
      "image/png": "[encoded data removed]",
      "text/plain": [
       "<matplotlib.figure.Figure at 0x7f796ec26ad0>"
      ]
     },
     "metadata": {},
     "output_type": "display_data"
    }
   ],
   "source": [
    "# Mito 2: vento de finados\n",
    "\n",
    "vento = dados[['Dia', 'Mes', 'Ano', 'Hora', 'Velocidade do Vento Media']].copy()\n",
    "vento = vento[vento.Hora == 0].drop(['Hora'], axis=1).reset_index().drop(['index'], axis=1)\n",
    "\n",
    "finados = vento[vento.Dia == '02']\n",
    "finados = finados[finados.Mes == '11'].drop(['Dia', 'Mes'], axis=1)\n",
    "finados['em km/h'] = finados['Velocidade do Vento Media'].apply(lambda v : v * 3.6)\n",
    "finados['Ano'] = finados.Ano.apply(lambda a : int(a))\n",
    "finados.plot(kind='scatter', x='Ano', y='em km/h')\n"
   ]
  },
  {
   "cell_type": "code",
   "execution_count": null,
   "metadata": {
    "collapsed": true
   },
   "outputs": [],
   "source": []
  }
 ],
 "metadata": {
  "kernelspec": {
   "display_name": "Python 2",
   "language": "python",
   "name": "python2"
  },
  "language_info": {
   "codemirror_mode": {
    "name": "ipython",
    "version": 2
   },
   "file_extension": ".py",
   "mimetype": "text/x-python",
   "name": "python",
   "nbconvert_exporter": "python",
   "pygments_lexer": "ipython2",
   "version": "2.7.13"
  }
 },
 "nbformat": 4,
 "nbformat_minor": 1
}
