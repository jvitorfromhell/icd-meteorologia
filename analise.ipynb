{
 "cells": [
  {
   "cell_type": "code",
   "execution_count": 18,
   "metadata": {
    "collapsed": true
   },
   "outputs": [],
   "source": [
    "# Libs\n",
    "\n",
    "import pandas as pd\n",
    "import numpy as np\n",
    "import matplotlib.pyplot as plt\n",
    "import seaborn as sns\n",
    "\n",
    "from datetime import date\n",
    "\n",
    "%matplotlib inline"
   ]
  },
  {
   "cell_type": "code",
   "execution_count": 23,
   "metadata": {
    "collapsed": true
   },
   "outputs": [],
   "source": [
    "dados = pd.read_csv('dados_original_bdmep.csv')"
   ]
  },
  {
   "cell_type": "code",
   "execution_count": 24,
   "metadata": {
    "collapsed": false
   },
   "outputs": [
    {
     "data": {
      "text/html": [
       "<div>\n",
       "<table border=\"1\" class=\"dataframe\">\n",
       "  <thead>\n",
       "    <tr style=\"text-align: right;\">\n",
       "      <th></th>\n",
       "      <th>Estacao</th>\n",
       "      <th>Data</th>\n",
       "      <th>Hora</th>\n",
       "      <th>Precipitacao</th>\n",
       "      <th>TempMaxima</th>\n",
       "      <th>TempMinima</th>\n",
       "      <th>Insolacao</th>\n",
       "      <th>Evaporacao Piche</th>\n",
       "      <th>Temp Comp Media</th>\n",
       "      <th>Umidade Relativa Media</th>\n",
       "      <th>Velocidade do Vento Media</th>\n",
       "    </tr>\n",
       "  </thead>\n",
       "  <tbody>\n",
       "    <tr>\n",
       "      <th>0</th>\n",
       "      <td>83985</td>\n",
       "      <td>01/01/1962</td>\n",
       "      <td>0</td>\n",
       "      <td>0.0</td>\n",
       "      <td>25.4</td>\n",
       "      <td>0.0</td>\n",
       "      <td>0.0</td>\n",
       "      <td>1.6</td>\n",
       "      <td>21.70</td>\n",
       "      <td>86.25</td>\n",
       "      <td>4.000000</td>\n",
       "    </tr>\n",
       "    <tr>\n",
       "      <th>1</th>\n",
       "      <td>83985</td>\n",
       "      <td>01/01/1962</td>\n",
       "      <td>1200</td>\n",
       "      <td>0.0</td>\n",
       "      <td>0.0</td>\n",
       "      <td>18.4</td>\n",
       "      <td>0.0</td>\n",
       "      <td>0.0</td>\n",
       "      <td>0.00</td>\n",
       "      <td>0.00</td>\n",
       "      <td>0.000000</td>\n",
       "    </tr>\n",
       "    <tr>\n",
       "      <th>2</th>\n",
       "      <td>83985</td>\n",
       "      <td>02/01/1962</td>\n",
       "      <td>0</td>\n",
       "      <td>0.0</td>\n",
       "      <td>29.2</td>\n",
       "      <td>0.0</td>\n",
       "      <td>0.0</td>\n",
       "      <td>1.0</td>\n",
       "      <td>23.16</td>\n",
       "      <td>76.00</td>\n",
       "      <td>0.666667</td>\n",
       "    </tr>\n",
       "    <tr>\n",
       "      <th>3</th>\n",
       "      <td>83985</td>\n",
       "      <td>02/01/1962</td>\n",
       "      <td>1200</td>\n",
       "      <td>15.8</td>\n",
       "      <td>0.0</td>\n",
       "      <td>20.0</td>\n",
       "      <td>0.0</td>\n",
       "      <td>0.0</td>\n",
       "      <td>0.00</td>\n",
       "      <td>0.00</td>\n",
       "      <td>0.000000</td>\n",
       "    </tr>\n",
       "    <tr>\n",
       "      <th>4</th>\n",
       "      <td>83985</td>\n",
       "      <td>03/01/1962</td>\n",
       "      <td>0</td>\n",
       "      <td>0.0</td>\n",
       "      <td>24.6</td>\n",
       "      <td>0.0</td>\n",
       "      <td>0.0</td>\n",
       "      <td>0.8</td>\n",
       "      <td>18.66</td>\n",
       "      <td>67.50</td>\n",
       "      <td>4.000000</td>\n",
       "    </tr>\n",
       "  </tbody>\n",
       "</table>\n",
       "</div>"
      ],
      "text/plain": [
       "   Estacao        Data  Hora  Precipitacao  TempMaxima  TempMinima  Insolacao  \\\n",
       "0    83985  01/01/1962     0           0.0        25.4         0.0        0.0   \n",
       "1    83985  01/01/1962  1200           0.0         0.0        18.4        0.0   \n",
       "2    83985  02/01/1962     0           0.0        29.2         0.0        0.0   \n",
       "3    83985  02/01/1962  1200          15.8         0.0        20.0        0.0   \n",
       "4    83985  03/01/1962     0           0.0        24.6         0.0        0.0   \n",
       "\n",
       "   Evaporacao Piche  Temp Comp Media  Umidade Relativa Media  \\\n",
       "0               1.6            21.70                   86.25   \n",
       "1               0.0             0.00                    0.00   \n",
       "2               1.0            23.16                   76.00   \n",
       "3               0.0             0.00                    0.00   \n",
       "4               0.8            18.66                   67.50   \n",
       "\n",
       "   Velocidade do Vento Media  \n",
       "0                   4.000000  \n",
       "1                   0.000000  \n",
       "2                   0.666667  \n",
       "3                   0.000000  \n",
       "4                   4.000000  "
      ]
     },
     "execution_count": 24,
     "metadata": {},
     "output_type": "execute_result"
    }
   ],
   "source": [
    "dados.head()"
   ]
  },
  {
   "cell_type": "code",
   "execution_count": 25,
   "metadata": {
    "collapsed": false
   },
   "outputs": [
    {
     "name": "stdout",
     "output_type": "stream",
     "text": [
      "<class 'pandas.core.frame.DataFrame'>\n",
      "RangeIndex: 23802 entries, 0 to 23801\n",
      "Data columns (total 11 columns):\n",
      "Estacao                      23802 non-null int64\n",
      "Data                         23802 non-null object\n",
      "Hora                         23802 non-null int64\n",
      "Precipitacao                 23802 non-null float64\n",
      "TempMaxima                   23802 non-null float64\n",
      "TempMinima                   23802 non-null float64\n",
      "Insolacao                    23802 non-null float64\n",
      "Evaporacao Piche             23802 non-null float64\n",
      "Temp Comp Media              23802 non-null float64\n",
      "Umidade Relativa Media       23802 non-null float64\n",
      "Velocidade do Vento Media    23802 non-null float64\n",
      "dtypes: float64(8), int64(2), object(1)\n",
      "memory usage: 2.0+ MB\n"
     ]
    }
   ],
   "source": [
    "dados.info()"
   ]
  },
  {
   "cell_type": "code",
   "execution_count": 26,
   "metadata": {
    "collapsed": false
   },
   "outputs": [
    {
     "data": {
      "text/html": [
       "<div>\n",
       "<table border=\"1\" class=\"dataframe\">\n",
       "  <thead>\n",
       "    <tr style=\"text-align: right;\">\n",
       "      <th></th>\n",
       "      <th>Estacao</th>\n",
       "      <th>Hora</th>\n",
       "      <th>Precipitacao</th>\n",
       "      <th>TempMaxima</th>\n",
       "      <th>TempMinima</th>\n",
       "      <th>Insolacao</th>\n",
       "      <th>Evaporacao Piche</th>\n",
       "      <th>Temp Comp Media</th>\n",
       "      <th>Umidade Relativa Media</th>\n",
       "      <th>Velocidade do Vento Media</th>\n",
       "      <th>Dia</th>\n",
       "      <th>Mes</th>\n",
       "      <th>Ano</th>\n",
       "      <th>Dia da Semana</th>\n",
       "    </tr>\n",
       "  </thead>\n",
       "  <tbody>\n",
       "    <tr>\n",
       "      <th>0</th>\n",
       "      <td>83985</td>\n",
       "      <td>0</td>\n",
       "      <td>0.0</td>\n",
       "      <td>25.4</td>\n",
       "      <td>0.0</td>\n",
       "      <td>0.0</td>\n",
       "      <td>1.6</td>\n",
       "      <td>21.70</td>\n",
       "      <td>86.25</td>\n",
       "      <td>4.000000</td>\n",
       "      <td>1</td>\n",
       "      <td>1</td>\n",
       "      <td>1962</td>\n",
       "      <td>0</td>\n",
       "    </tr>\n",
       "    <tr>\n",
       "      <th>1</th>\n",
       "      <td>83985</td>\n",
       "      <td>1200</td>\n",
       "      <td>0.0</td>\n",
       "      <td>0.0</td>\n",
       "      <td>18.4</td>\n",
       "      <td>0.0</td>\n",
       "      <td>0.0</td>\n",
       "      <td>0.00</td>\n",
       "      <td>0.00</td>\n",
       "      <td>0.000000</td>\n",
       "      <td>1</td>\n",
       "      <td>1</td>\n",
       "      <td>1962</td>\n",
       "      <td>0</td>\n",
       "    </tr>\n",
       "    <tr>\n",
       "      <th>2</th>\n",
       "      <td>83985</td>\n",
       "      <td>0</td>\n",
       "      <td>0.0</td>\n",
       "      <td>29.2</td>\n",
       "      <td>0.0</td>\n",
       "      <td>0.0</td>\n",
       "      <td>1.0</td>\n",
       "      <td>23.16</td>\n",
       "      <td>76.00</td>\n",
       "      <td>0.666667</td>\n",
       "      <td>2</td>\n",
       "      <td>1</td>\n",
       "      <td>1962</td>\n",
       "      <td>1</td>\n",
       "    </tr>\n",
       "    <tr>\n",
       "      <th>3</th>\n",
       "      <td>83985</td>\n",
       "      <td>1200</td>\n",
       "      <td>15.8</td>\n",
       "      <td>0.0</td>\n",
       "      <td>20.0</td>\n",
       "      <td>0.0</td>\n",
       "      <td>0.0</td>\n",
       "      <td>0.00</td>\n",
       "      <td>0.00</td>\n",
       "      <td>0.000000</td>\n",
       "      <td>2</td>\n",
       "      <td>1</td>\n",
       "      <td>1962</td>\n",
       "      <td>1</td>\n",
       "    </tr>\n",
       "    <tr>\n",
       "      <th>4</th>\n",
       "      <td>83985</td>\n",
       "      <td>0</td>\n",
       "      <td>0.0</td>\n",
       "      <td>24.6</td>\n",
       "      <td>0.0</td>\n",
       "      <td>0.0</td>\n",
       "      <td>0.8</td>\n",
       "      <td>18.66</td>\n",
       "      <td>67.50</td>\n",
       "      <td>4.000000</td>\n",
       "      <td>3</td>\n",
       "      <td>1</td>\n",
       "      <td>1962</td>\n",
       "      <td>2</td>\n",
       "    </tr>\n",
       "  </tbody>\n",
       "</table>\n",
       "</div>"
      ],
      "text/plain": [
       "   Estacao  Hora  Precipitacao  TempMaxima  TempMinima  Insolacao  \\\n",
       "0    83985     0           0.0        25.4         0.0        0.0   \n",
       "1    83985  1200           0.0         0.0        18.4        0.0   \n",
       "2    83985     0           0.0        29.2         0.0        0.0   \n",
       "3    83985  1200          15.8         0.0        20.0        0.0   \n",
       "4    83985     0           0.0        24.6         0.0        0.0   \n",
       "\n",
       "   Evaporacao Piche  Temp Comp Media  Umidade Relativa Media  \\\n",
       "0               1.6            21.70                   86.25   \n",
       "1               0.0             0.00                    0.00   \n",
       "2               1.0            23.16                   76.00   \n",
       "3               0.0             0.00                    0.00   \n",
       "4               0.8            18.66                   67.50   \n",
       "\n",
       "   Velocidade do Vento Media  Dia  Mes   Ano  Dia da Semana  \n",
       "0                   4.000000    1    1  1962              0  \n",
       "1                   0.000000    1    1  1962              0  \n",
       "2                   0.666667    2    1  1962              1  \n",
       "3                   0.000000    2    1  1962              1  \n",
       "4                   4.000000    3    1  1962              2  "
      ]
     },
     "execution_count": 26,
     "metadata": {},
     "output_type": "execute_result"
    }
   ],
   "source": [
    "# Transforma Data string em numerica\n",
    "\n",
    "dados['Dia'] = dados.Data.apply(lambda data : int(data.split('/')[0]))\n",
    "dados['Mes'] = dados.Data.apply(lambda data : int(data.split('/')[1]))\n",
    "dados['Ano'] = dados.Data.apply(lambda data : int(data.split('/')[2]))\n",
    "\n",
    "# Remove data string\n",
    "dados = dados.drop(['Data'], axis=1)\n",
    "\n",
    "# Adiciona dia da semana\n",
    "\n",
    "dados['Dia da Semana'] = np.array([date(dados.Ano.iloc[i], dados.Mes.iloc[i], dados.Dia.iloc[i]).weekday() for i in range(len(dados.Dia))])\n",
    "\n",
    "dados.head()"
   ]
  },
  {
   "cell_type": "code",
   "execution_count": 27,
   "metadata": {
    "collapsed": false
   },
   "outputs": [
    {
     "data": {
      "text/plain": [
       "array([1962, 1963, 1964, 1965, 1966, 1967, 1968, 1969, 1970, 1971, 1977,\n",
       "       1978, 1979, 1980, 1981, 1982, 1983, 1984, 1988, 1991, 1994, 1996,\n",
       "       1997, 1998, 2000, 2001, 2002, 2003, 2004, 2005, 2006, 2007, 2008,\n",
       "       2009, 2010, 2011, 2012, 2013, 2014, 2015, 2016])"
      ]
     },
     "execution_count": 27,
     "metadata": {},
     "output_type": "execute_result"
    }
   ],
   "source": [
    "# Explorando os dados, verifiquei que existem anos que nao estao presentes nos dados\n",
    "# Nao existem dados relativos aos ano 1972-1976, 1985-1987, 1989-1990, 1992-1993, 1995 e 1999\n",
    "\n",
    "anos = dados.Ano.unique()\n",
    "anos"
   ]
  },
  {
   "cell_type": "code",
   "execution_count": 28,
   "metadata": {
    "collapsed": false
   },
   "outputs": [
    {
     "name": "stdout",
     "output_type": "stream",
     "text": [
      "1962 [ 1  3  4  5  6  7  8  9 10 11 12]\n",
      "1963 [ 1  2  3  4  5  6  7  8  9 11 12]\n",
      "1964 [ 1  2  3  4  5  6  8  9 10 11 12]\n",
      "1965 [ 1  2  3  4  5  6  7  8  9 11 12]\n",
      "1966 [ 1  3  4  5  6  7  8  9 10 11 12]\n",
      "1967 [1]\n",
      "1968 [ 2  3  4  5  6  7  9 10 11 12]\n",
      "1969 [ 2  3  4  5  6  7  8  9 10 11 12]\n",
      "1970 [ 1  2  4  6  7  8  9 10 11 12]\n",
      "1971 [4]\n",
      "1977 [ 9 10 11 12]\n",
      "1978 [ 1  2  3  4  5  6  7  8  9 10 11 12]\n",
      "1979 [ 1  2  3  4  5  6  7  8  9 10 11 12]\n",
      "1980 [ 1  2  3  4  5  6  7  8  9 10 11 12]\n",
      "1981 [ 1  2  3  4  5  6  7  8  9 10 11 12]\n",
      "1982 [ 1  2  3  4  5  6  7  8  9 10 11 12]\n",
      "1983 [ 1  2  3  4  5  6  7  8  9 10 11 12]\n",
      "1984 [ 1  2  3  4  5  6  7  8  9 10 11 12]\n",
      "1988 [5 6 7 8]\n",
      "1991 [1]\n",
      "1994 [ 1  2  3  4  5  6  7  8  9 10 11 12]\n",
      "1996 [ 1  2  3  4  5  6  7  8  9 10 11 12]\n",
      "1997 [ 1  2  3  4  5  6  7  8  9 10 11 12]\n",
      "1998 [ 1  2  3  4  5  6  7  8  9 10 11 12]\n",
      "2000 [ 1  2  3  4  5  6  7  8  9 10 11 12]\n",
      "2001 [ 9 10 11 12]\n",
      "2002 [ 1  2  3  4  5  6  7  8  9 10 11 12]\n",
      "2003 [ 1  2  3  4  5  6  7  8  9 10 11 12]\n",
      "2004 [ 1  2  3  4  5  6  7  8  9 10 11 12]\n",
      "2005 [ 1  2  3  4  5  6  7  8  9 10 11]\n",
      "2006 [ 1  2  3  4  5  6  7  8  9 10 11 12]\n",
      "2007 [ 1  2  3  4  5  6  7  8  9 10 11 12]\n",
      "2008 [ 1  2  3  4  5  6  7  8  9 10 11 12]\n",
      "2009 [ 1  2  3  4  5  6  7  8  9 10 11 12]\n",
      "2010 [ 1  2  3  4  5  6  7  8  9 10 11 12]\n",
      "2011 [ 1  2  3  4  5  6  7  8  9 10 11 12]\n",
      "2012 [ 1  2  3  4  5  6  7  8  9 10 11 12]\n",
      "2013 [ 1  2  3  4  5  6  7  8  9 10 11 12]\n",
      "2014 [1 2 3 4 5 6 7 8]\n",
      "2015 [ 1  2  3  4  5  6  7  8  9 10 11 12]\n",
      "2016 [ 1  2  3  5  6  7  8  9 10 11 12]\n"
     ]
    }
   ],
   "source": [
    "# Alem disso, ha meses faltando\n",
    "\n",
    "mesesPorAno = {}\n",
    "\n",
    "for ano in anos:\n",
    "    mesesPorAno[ano] = dados[dados.Ano == ano].Mes.unique()\n",
    "    \n",
    "for i in range(1962, 2017):\n",
    "    if i in mesesPorAno:\n",
    "        print i, mesesPorAno[i]"
   ]
  },
  {
   "cell_type": "code",
   "execution_count": 29,
   "metadata": {
    "collapsed": false
   },
   "outputs": [
    {
     "data": {
      "text/html": [
       "<div>\n",
       "<table border=\"1\" class=\"dataframe\">\n",
       "  <thead>\n",
       "    <tr style=\"text-align: right;\">\n",
       "      <th></th>\n",
       "      <th>Dia</th>\n",
       "      <th>Mes</th>\n",
       "      <th>Ano</th>\n",
       "      <th>Dia da Semana</th>\n",
       "      <th>Precipitacao</th>\n",
       "    </tr>\n",
       "  </thead>\n",
       "  <tbody>\n",
       "    <tr>\n",
       "      <th>0</th>\n",
       "      <td>1</td>\n",
       "      <td>1</td>\n",
       "      <td>1962</td>\n",
       "      <td>0</td>\n",
       "      <td>0.0</td>\n",
       "    </tr>\n",
       "    <tr>\n",
       "      <th>1</th>\n",
       "      <td>2</td>\n",
       "      <td>1</td>\n",
       "      <td>1962</td>\n",
       "      <td>1</td>\n",
       "      <td>15.8</td>\n",
       "    </tr>\n",
       "    <tr>\n",
       "      <th>2</th>\n",
       "      <td>3</td>\n",
       "      <td>1</td>\n",
       "      <td>1962</td>\n",
       "      <td>2</td>\n",
       "      <td>2.4</td>\n",
       "    </tr>\n",
       "    <tr>\n",
       "      <th>3</th>\n",
       "      <td>4</td>\n",
       "      <td>1</td>\n",
       "      <td>1962</td>\n",
       "      <td>3</td>\n",
       "      <td>0.0</td>\n",
       "    </tr>\n",
       "    <tr>\n",
       "      <th>4</th>\n",
       "      <td>5</td>\n",
       "      <td>1</td>\n",
       "      <td>1962</td>\n",
       "      <td>4</td>\n",
       "      <td>0.0</td>\n",
       "    </tr>\n",
       "  </tbody>\n",
       "</table>\n",
       "</div>"
      ],
      "text/plain": [
       "   Dia  Mes   Ano  Dia da Semana  Precipitacao\n",
       "0    1    1  1962              0           0.0\n",
       "1    2    1  1962              1          15.8\n",
       "2    3    1  1962              2           2.4\n",
       "3    4    1  1962              3           0.0\n",
       "4    5    1  1962              4           0.0"
      ]
     },
     "execution_count": 29,
     "metadata": {},
     "output_type": "execute_result"
    }
   ],
   "source": [
    "# Mito 1: se chove no dia de Sao Miguel (29 de Setembro) chove mais no mes de Outubro\n",
    "\n",
    "# Seleciona somente os dados relativos a precipitacao\n",
    "# Uma vez que a medicao de precipitacao nao eh feita na leitura da meia noite (Hora = 0), pode-se ignorar esses dados\n",
    "\n",
    "precipitacao = dados[['Dia', 'Mes', 'Ano', 'Hora', 'Dia da Semana','Precipitacao']].copy()\n",
    "precipitacao = precipitacao[precipitacao.Hora == 1200].drop(['Hora'], axis=1).reset_index().drop(['index'], axis=1)\n",
    "\n",
    "precipitacao.head()"
   ]
  },
  {
   "cell_type": "code",
   "execution_count": 36,
   "metadata": {
    "collapsed": false
   },
   "outputs": [
    {
     "data": {
      "text/plain": [
       "<matplotlib.axes._subplots.AxesSubplot at 0x7fc8be820750>"
      ]
     },
     "execution_count": 36,
     "metadata": {},
     "output_type": "execute_result"
    },
    {
     "data": {
      "image/png": "[encoded data removed]",
      "text/plain": [
       "<matplotlib.figure.Figure at 0x7fc8be7fa690>"
      ]
     },
     "metadata": {},
     "output_type": "display_data"
    }
   ],
   "source": [
    "saoMiguel = precipitacao[(precipitacao.Dia == 29) & (precipitacao.Mes == 9)].copy().drop(['Dia', 'Mes', 'Dia da Semana'], axis=1).set_index('Ano')\n",
    "\n",
    "outubros = precipitacao[precipitacao.Mes == 10].drop(['Dia', 'Mes', 'Dia da Semana'], axis=1).groupby('Ano').sum()\n",
    "\n",
    "saoMiguel = saoMiguel.join(outubros, lsuffix=' Sao Miguel', rsuffix=' Acumulada em Outubro')\n",
    "saoMiguel.plot(kind='scatter', x = 'Precipitacao Sao Miguel', y = 'Precipitacao Acumulada em Outubro')\n",
    "\n",
    "# Parece que nao"
   ]
  },
  {
   "cell_type": "code",
   "execution_count": 45,
   "metadata": {
    "collapsed": false,
    "scrolled": true
   },
   "outputs": [
    {
     "data": {
      "text/plain": [
       "<matplotlib.axes._subplots.AxesSubplot at 0x7fc8be584690>"
      ]
     },
     "execution_count": 45,
     "metadata": {},
     "output_type": "execute_result"
    },
    {
     "data": {
      "image/png": "[encoded data removed]",
      "text/plain": [
       "<matplotlib.figure.Figure at 0x7fc8be5980d0>"
      ]
     },
     "metadata": {},
     "output_type": "display_data"
    }
   ],
   "source": [
    "# Mito 2: se chove na primeira terca de Agosto, vai chover mais durante o mes\n",
    "\n",
    "agostos = precipitacao[precipitacao.Mes == 8].copy()\n",
    "\n",
    "primeiras_tercas = agostos[agostos['Dia da Semana'] == 1].copy().drop_duplicates(subset=['Ano'])\n",
    "primeiras_tercas = primeiras_tercas[primeiras_tercas.Ano != 1979].drop(['Dia', 'Mes', 'Dia da Semana'], axis=1).set_index('Ano')\n",
    "\n",
    "agostos = agostos.drop(['Dia', 'Mes', 'Dia da Semana'], axis=1).groupby('Ano').sum()\n",
    "\n",
    "primeiras_tercas = primeiras_tercas.join(agostos, lsuffix=' Primeira Terca', rsuffix=' Acumulada em Agosto')\n",
    "primeiras_tercas.plot(kind='scatter', x = 'Precipitacao Primeira Terca', y = 'Precipitacao Acumulada em Agosto')"
   ]
  },
  {
   "cell_type": "code",
   "execution_count": 46,
   "metadata": {
    "collapsed": false
   },
   "outputs": [
    {
     "data": {
      "text/html": [
       "<div>\n",
       "<table border=\"1\" class=\"dataframe\">\n",
       "  <thead>\n",
       "    <tr style=\"text-align: right;\">\n",
       "      <th></th>\n",
       "      <th>Precipitacao Primeira Terca</th>\n",
       "      <th>Precipitacao Acumulada em Agosto</th>\n",
       "    </tr>\n",
       "  </thead>\n",
       "  <tbody>\n",
       "    <tr>\n",
       "      <th>Precipitacao Primeira Terca</th>\n",
       "      <td>1.000000</td>\n",
       "      <td>0.253616</td>\n",
       "    </tr>\n",
       "    <tr>\n",
       "      <th>Precipitacao Acumulada em Agosto</th>\n",
       "      <td>0.253616</td>\n",
       "      <td>1.000000</td>\n",
       "    </tr>\n",
       "  </tbody>\n",
       "</table>\n",
       "</div>"
      ],
      "text/plain": [
       "                                  Precipitacao Primeira Terca  \\\n",
       "Precipitacao Primeira Terca                          1.000000   \n",
       "Precipitacao Acumulada em Agosto                     0.253616   \n",
       "\n",
       "                                  Precipitacao Acumulada em Agosto  \n",
       "Precipitacao Primeira Terca                               0.253616  \n",
       "Precipitacao Acumulada em Agosto                          1.000000  "
      ]
     },
     "execution_count": 46,
     "metadata": {},
     "output_type": "execute_result"
    }
   ],
   "source": [
    "# Existe uma correlacao, mesmo que nao muito elevada, entre as duas variaveis\n",
    "\n",
    "primeiras_tercas.corr()"
   ]
  },
  {
   "cell_type": "code",
   "execution_count": 60,
   "metadata": {
    "collapsed": false
   },
   "outputs": [
    {
     "data": {
      "text/plain": [
       "<matplotlib.axes._subplots.AxesSubplot at 0x7fc8bdd1b6d0>"
      ]
     },
     "execution_count": 60,
     "metadata": {},
     "output_type": "execute_result"
    },
    {
     "data": {
      "image/png": "[encoded data removed]",
      "text/plain": [
       "<matplotlib.figure.Figure at 0x7fc8bdcb9c10>"
      ]
     },
     "metadata": {},
     "output_type": "display_data"
    }
   ],
   "source": [
    "# Mito 3: vento de finados\n",
    "\n",
    "vento = dados[['Dia', 'Mes', 'Ano', 'Hora', 'Velocidade do Vento Media']].copy()\n",
    "vento = vento[vento.Hora == 0].drop(['Hora'], axis=1).reset_index().drop(['index'], axis=1)\n",
    "vento['em km/h'] = vento['Velocidade do Vento Media'].apply(lambda v : v * 3.6)\n",
    "\n",
    "finados = vento[(vento.Dia == 2) & (vento.Mes == 11)].drop(['Dia', 'Mes'], axis=1)\n",
    "finados['Ano'] = finados.Ano.apply(lambda a : int(a))\n",
    "finados.plot(kind='scatter', x='Ano', y='em km/h')"
   ]
  },
  {
   "cell_type": "code",
   "execution_count": 71,
   "metadata": {
    "collapsed": false
   },
   "outputs": [
    {
     "data": {
      "text/plain": [
       "count    33.000000\n",
       "mean     12.301818\n",
       "std       5.854239\n",
       "min       1.559999\n",
       "25%       9.479999\n",
       "50%      11.040001\n",
       "75%      15.959999\n",
       "max      24.000001\n",
       "Name: em km/h, dtype: float64"
      ]
     },
     "execution_count": 71,
     "metadata": {},
     "output_type": "execute_result"
    },
    {
     "data": {
      "image/png": "[encoded data removed]",
      "text/plain": [
       "<matplotlib.figure.Figure at 0x7fc8bd290e90>"
      ]
     },
     "metadata": {},
     "output_type": "display_data"
    }
   ],
   "source": [
    "finados['em km/h'].plot(kind='hist')\n",
    "finados['em km/h'].describe()"
   ]
  },
  {
   "cell_type": "code",
   "execution_count": 72,
   "metadata": {
    "collapsed": false
   },
   "outputs": [
    {
     "data": {
      "text/plain": [
       "count    11796.000000\n",
       "mean        10.912757\n",
       "std          6.649911\n",
       "min          0.000000\n",
       "25%          6.599999\n",
       "50%          9.839999\n",
       "75%         14.400000\n",
       "max         50.400000\n",
       "Name: em km/h, dtype: float64"
      ]
     },
     "execution_count": 72,
     "metadata": {},
     "output_type": "execute_result"
    },
    {
     "data": {
      "image/png": "[encoded data removed]",
      "text/plain": [
       "<matplotlib.figure.Figure at 0x7fc8bd9c4690>"
      ]
     },
     "metadata": {},
     "output_type": "display_data"
    }
   ],
   "source": [
    "# Finados tem uma distribuicao com tendencia maior que o restante do ano?\n",
    "\n",
    "vento['em km/h'].plot(kind='hist')\n",
    "vento['em km/h'].describe()"
   ]
  },
  {
   "cell_type": "code",
   "execution_count": null,
   "metadata": {
    "collapsed": true
   },
   "outputs": [],
   "source": []
  }
 ],
 "metadata": {
  "kernelspec": {
   "display_name": "Python 2",
   "language": "python",
   "name": "python2"
  },
  "language_info": {
   "codemirror_mode": {
    "name": "ipython",
    "version": 2
   },
   "file_extension": ".py",
   "mimetype": "text/x-python",
   "name": "python",
   "nbconvert_exporter": "python",
   "pygments_lexer": "ipython2",
   "version": "2.7.13"
  }
 },
 "nbformat": 4,
 "nbformat_minor": 1
}
